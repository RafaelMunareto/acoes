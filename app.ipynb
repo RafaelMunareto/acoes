{
 "cells": [
  {
   "cell_type": "markdown",
   "metadata": {},
   "source": [
    "## Estudo acoes"
   ]
  },
  {
   "cell_type": "markdown",
   "metadata": {},
   "source": [
    "### Bibilioteca"
   ]
  },
  {
   "cell_type": "code",
   "execution_count": 33,
   "metadata": {},
   "outputs": [],
   "source": [
    "import pandas as pd\n",
    "from sklearn.preprocessing import StandardScaler, MinMaxScaler\n",
    "from sklearn.model_selection import train_test_split\n",
    "import os\n",
    "import pickle\n"
   ]
  },
  {
   "cell_type": "markdown",
   "metadata": {},
   "source": [
    "### Busca e tratamento de dados"
   ]
  },
  {
   "cell_type": "code",
   "execution_count": 37,
   "metadata": {},
   "outputs": [],
   "source": [
    "df = pd.read_csv('./dados/dados.csv', sep=';', encoding='utf-8')"
   ]
  },
  {
   "cell_type": "code",
   "execution_count": 38,
   "metadata": {},
   "outputs": [
    {
     "data": {
      "text/html": [
       "<div>\n",
       "<style scoped>\n",
       "    .dataframe tbody tr th:only-of-type {\n",
       "        vertical-align: middle;\n",
       "    }\n",
       "\n",
       "    .dataframe tbody tr th {\n",
       "        vertical-align: top;\n",
       "    }\n",
       "\n",
       "    .dataframe thead th {\n",
       "        text-align: right;\n",
       "    }\n",
       "</style>\n",
       "<table border=\"1\" class=\"dataframe\">\n",
       "  <thead>\n",
       "    <tr style=\"text-align: right;\">\n",
       "      <th></th>\n",
       "      <th>TICKER</th>\n",
       "      <th>PRECO</th>\n",
       "      <th>DY</th>\n",
       "      <th>P/L</th>\n",
       "      <th>P/VP</th>\n",
       "      <th>P/ATIVOS</th>\n",
       "      <th>MARGEM BRUTA</th>\n",
       "      <th>MARGEM EBIT</th>\n",
       "      <th>MARG. LIQUIDA</th>\n",
       "      <th>P/EBIT</th>\n",
       "      <th>...</th>\n",
       "      <th>PATRIMONIO / ATIVOS</th>\n",
       "      <th>PASSIVOS / ATIVOS</th>\n",
       "      <th>GIRO ATIVOS</th>\n",
       "      <th>CAGR RECEITAS 5 ANOS</th>\n",
       "      <th>CAGR LUCROS 5 ANOS</th>\n",
       "      <th>LIQUIDEZ MEDIA DIARIA</th>\n",
       "      <th>VPA</th>\n",
       "      <th>LPA</th>\n",
       "      <th>PEG Ratio</th>\n",
       "      <th>VALOR DE MERCADO</th>\n",
       "    </tr>\n",
       "  </thead>\n",
       "  <tbody>\n",
       "    <tr>\n",
       "      <th>0</th>\n",
       "      <td>AALR3</td>\n",
       "      <td>7,00</td>\n",
       "      <td>NaN</td>\n",
       "      <td>-3,15</td>\n",
       "      <td>0,82</td>\n",
       "      <td>0,30</td>\n",
       "      <td>30,10</td>\n",
       "      <td>1,60</td>\n",
       "      <td>-22,81</td>\n",
       "      <td>44,76</td>\n",
       "      <td>...</td>\n",
       "      <td>0,37</td>\n",
       "      <td>0,62</td>\n",
       "      <td>0,42</td>\n",
       "      <td>0,13</td>\n",
       "      <td>NaN</td>\n",
       "      <td>641.433,39</td>\n",
       "      <td>8,58</td>\n",
       "      <td>-2,22</td>\n",
       "      <td>-0,03</td>\n",
       "      <td>828.049.712,00</td>\n",
       "    </tr>\n",
       "    <tr>\n",
       "      <th>1</th>\n",
       "      <td>ABCB4</td>\n",
       "      <td>24,61</td>\n",
       "      <td>6,41</td>\n",
       "      <td>6,01</td>\n",
       "      <td>1,02</td>\n",
       "      <td>0,10</td>\n",
       "      <td>25,50</td>\n",
       "      <td>17,06</td>\n",
       "      <td>15,50</td>\n",
       "      <td>5,46</td>\n",
       "      <td>...</td>\n",
       "      <td>0,10</td>\n",
       "      <td>0,91</td>\n",
       "      <td>0,11</td>\n",
       "      <td>18,70</td>\n",
       "      <td>17,80</td>\n",
       "      <td>15.402.170,61</td>\n",
       "      <td>24,15</td>\n",
       "      <td>4,09</td>\n",
       "      <td>-0,33</td>\n",
       "      <td>5.830.997.322,56</td>\n",
       "    </tr>\n",
       "    <tr>\n",
       "      <th>2</th>\n",
       "      <td>ABEV3</td>\n",
       "      <td>12,71</td>\n",
       "      <td>5,75</td>\n",
       "      <td>13,28</td>\n",
       "      <td>2,22</td>\n",
       "      <td>1,45</td>\n",
       "      <td>50,30</td>\n",
       "      <td>22,59</td>\n",
       "      <td>18,29</td>\n",
       "      <td>10,75</td>\n",
       "      <td>...</td>\n",
       "      <td>0,65</td>\n",
       "      <td>0,34</td>\n",
       "      <td>0,60</td>\n",
       "      <td>10,72</td>\n",
       "      <td>15,72</td>\n",
       "      <td>341.222.476,32</td>\n",
       "      <td>5,73</td>\n",
       "      <td>0,96</td>\n",
       "      <td>0,88</td>\n",
       "      <td>200.231.221.039,64</td>\n",
       "    </tr>\n",
       "  </tbody>\n",
       "</table>\n",
       "<p>3 rows × 30 columns</p>\n",
       "</div>"
      ],
      "text/plain": [
       "  TICKER  PRECO    DY    P/L  P/VP P/ATIVOS MARGEM BRUTA MARGEM EBIT   \n",
       "0  AALR3   7,00   NaN  -3,15  0,82     0,30        30,10        1,60  \\\n",
       "1  ABCB4  24,61  6,41   6,01  1,02     0,10        25,50       17,06   \n",
       "2  ABEV3  12,71  5,75  13,28  2,22     1,45        50,30       22,59   \n",
       "\n",
       "  MARG. LIQUIDA P/EBIT  ... PATRIMONIO / ATIVOS PASSIVOS / ATIVOS GIRO ATIVOS   \n",
       "0        -22,81  44,76  ...                0,37              0,62        0,42  \\\n",
       "1         15,50   5,46  ...                0,10              0,91        0,11   \n",
       "2         18,29  10,75  ...                0,65              0,34        0,60   \n",
       "\n",
       "  CAGR RECEITAS 5 ANOS CAGR LUCROS 5 ANOS  LIQUIDEZ MEDIA DIARIA    VPA   \n",
       "0                 0,13                NaN             641.433,39   8,58  \\\n",
       "1                18,70              17,80          15.402.170,61  24,15   \n",
       "2                10,72              15,72         341.222.476,32   5,73   \n",
       "\n",
       "     LPA  PEG Ratio    VALOR DE MERCADO  \n",
       "0  -2,22      -0,03      828.049.712,00  \n",
       "1   4,09      -0,33    5.830.997.322,56  \n",
       "2   0,96       0,88  200.231.221.039,64  \n",
       "\n",
       "[3 rows x 30 columns]"
      ]
     },
     "execution_count": 38,
     "metadata": {},
     "output_type": "execute_result"
    }
   ],
   "source": [
    "df.head(3)"
   ]
  },
  {
   "cell_type": "code",
   "execution_count": 39,
   "metadata": {},
   "outputs": [],
   "source": [
    "df.fillna(0, inplace=True)\n",
    "for column in df.columns:\n",
    "    if column != 'TICKER':\n",
    "        df[column] = df[column].astype(str).apply(lambda x: x.replace('.', '').replace(',', '.') if ',' in x else x)\n",
    "        df[column] = df[column].astype(float)\n"
   ]
  },
  {
   "cell_type": "code",
   "execution_count": 40,
   "metadata": {},
   "outputs": [
    {
     "data": {
      "text/plain": [
       "TICKER                    0\n",
       "PRECO                     0\n",
       "DY                        0\n",
       "P/L                       0\n",
       "P/VP                      0\n",
       "P/ATIVOS                  0\n",
       "MARGEM BRUTA              0\n",
       "MARGEM EBIT               0\n",
       "MARG. LIQUIDA             0\n",
       "P/EBIT                    0\n",
       "EV/EBIT                   0\n",
       "DIVIDA LIQUIDA / EBIT     0\n",
       "DIV. LIQ. / PATRI.        0\n",
       "PSR                       0\n",
       "P/CAP. GIRO               0\n",
       "P. AT CIR. LIQ.           0\n",
       "LIQ. CORRENTE             0\n",
       "ROE                       0\n",
       "ROA                       0\n",
       "ROIC                      0\n",
       "PATRIMONIO / ATIVOS       0\n",
       "PASSIVOS / ATIVOS         0\n",
       "GIRO ATIVOS               0\n",
       "CAGR RECEITAS 5 ANOS      0\n",
       "CAGR LUCROS 5 ANOS        0\n",
       " LIQUIDEZ MEDIA DIARIA    0\n",
       " VPA                      0\n",
       " LPA                      0\n",
       " PEG Ratio                0\n",
       " VALOR DE MERCADO         0\n",
       "dtype: int64"
      ]
     },
     "execution_count": 40,
     "metadata": {},
     "output_type": "execute_result"
    }
   ],
   "source": [
    "df.isna().sum()"
   ]
  },
  {
   "cell_type": "markdown",
   "metadata": {},
   "source": [
    "### Definição alvo e previsores"
   ]
  },
  {
   "cell_type": "code",
   "execution_count": 41,
   "metadata": {},
   "outputs": [],
   "source": [
    "alvo = df.PRECO"
   ]
  },
  {
   "cell_type": "code",
   "execution_count": 42,
   "metadata": {},
   "outputs": [],
   "source": [
    "previsores = df[['DY', 'P/L', 'P/VP', 'P/ATIVOS', 'MARGEM BRUTA',\n",
    "       'MARGEM EBIT', 'MARG. LIQUIDA', 'P/EBIT', 'EV/EBIT',\n",
    "       'DIVIDA LIQUIDA / EBIT', 'DIV. LIQ. / PATRI.', 'PSR', 'P/CAP. GIRO',\n",
    "       'P. AT CIR. LIQ.', 'LIQ. CORRENTE', 'ROE', 'ROA', 'ROIC',\n",
    "       'PATRIMONIO / ATIVOS', 'PASSIVOS / ATIVOS', 'GIRO ATIVOS',\n",
    "       'CAGR RECEITAS 5 ANOS', 'CAGR LUCROS 5 ANOS', ' LIQUIDEZ MEDIA DIARIA',\n",
    "       ' VPA', ' LPA', ' PEG Ratio', ' VALOR DE MERCADO']]"
   ]
  },
  {
   "cell_type": "code",
   "execution_count": 43,
   "metadata": {},
   "outputs": [
    {
     "data": {
      "text/html": [
       "<div>\n",
       "<style scoped>\n",
       "    .dataframe tbody tr th:only-of-type {\n",
       "        vertical-align: middle;\n",
       "    }\n",
       "\n",
       "    .dataframe tbody tr th {\n",
       "        vertical-align: top;\n",
       "    }\n",
       "\n",
       "    .dataframe thead th {\n",
       "        text-align: right;\n",
       "    }\n",
       "</style>\n",
       "<table border=\"1\" class=\"dataframe\">\n",
       "  <thead>\n",
       "    <tr style=\"text-align: right;\">\n",
       "      <th></th>\n",
       "      <th>DY</th>\n",
       "      <th>P/L</th>\n",
       "      <th>P/VP</th>\n",
       "      <th>P/ATIVOS</th>\n",
       "      <th>MARGEM BRUTA</th>\n",
       "      <th>MARGEM EBIT</th>\n",
       "      <th>MARG. LIQUIDA</th>\n",
       "      <th>P/EBIT</th>\n",
       "      <th>EV/EBIT</th>\n",
       "      <th>DIVIDA LIQUIDA / EBIT</th>\n",
       "      <th>...</th>\n",
       "      <th>PATRIMONIO / ATIVOS</th>\n",
       "      <th>PASSIVOS / ATIVOS</th>\n",
       "      <th>GIRO ATIVOS</th>\n",
       "      <th>CAGR RECEITAS 5 ANOS</th>\n",
       "      <th>CAGR LUCROS 5 ANOS</th>\n",
       "      <th>LIQUIDEZ MEDIA DIARIA</th>\n",
       "      <th>VPA</th>\n",
       "      <th>LPA</th>\n",
       "      <th>PEG Ratio</th>\n",
       "      <th>VALOR DE MERCADO</th>\n",
       "    </tr>\n",
       "  </thead>\n",
       "  <tbody>\n",
       "    <tr>\n",
       "      <th>0</th>\n",
       "      <td>0.00</td>\n",
       "      <td>-3.15</td>\n",
       "      <td>0.82</td>\n",
       "      <td>0.3</td>\n",
       "      <td>30.1</td>\n",
       "      <td>1.60</td>\n",
       "      <td>-22.81</td>\n",
       "      <td>44.76</td>\n",
       "      <td>85.66</td>\n",
       "      <td>40.9</td>\n",
       "      <td>...</td>\n",
       "      <td>0.37</td>\n",
       "      <td>0.62</td>\n",
       "      <td>0.42</td>\n",
       "      <td>0.13</td>\n",
       "      <td>0.0</td>\n",
       "      <td>641433.39</td>\n",
       "      <td>8.58</td>\n",
       "      <td>-2.22</td>\n",
       "      <td>-0.03</td>\n",
       "      <td>8.280497e+08</td>\n",
       "    </tr>\n",
       "    <tr>\n",
       "      <th>1</th>\n",
       "      <td>6.41</td>\n",
       "      <td>6.01</td>\n",
       "      <td>1.02</td>\n",
       "      <td>0.1</td>\n",
       "      <td>25.5</td>\n",
       "      <td>17.06</td>\n",
       "      <td>15.50</td>\n",
       "      <td>5.46</td>\n",
       "      <td>5.46</td>\n",
       "      <td>0.0</td>\n",
       "      <td>...</td>\n",
       "      <td>0.10</td>\n",
       "      <td>0.91</td>\n",
       "      <td>0.11</td>\n",
       "      <td>18.70</td>\n",
       "      <td>17.8</td>\n",
       "      <td>15402170.61</td>\n",
       "      <td>24.15</td>\n",
       "      <td>4.09</td>\n",
       "      <td>-0.33</td>\n",
       "      <td>5.830997e+09</td>\n",
       "    </tr>\n",
       "  </tbody>\n",
       "</table>\n",
       "<p>2 rows × 28 columns</p>\n",
       "</div>"
      ],
      "text/plain": [
       "     DY   P/L  P/VP  P/ATIVOS  MARGEM BRUTA  MARGEM EBIT  MARG. LIQUIDA   \n",
       "0  0.00 -3.15  0.82       0.3          30.1         1.60         -22.81  \\\n",
       "1  6.41  6.01  1.02       0.1          25.5        17.06          15.50   \n",
       "\n",
       "   P/EBIT  EV/EBIT  DIVIDA LIQUIDA / EBIT  ...  PATRIMONIO / ATIVOS   \n",
       "0   44.76    85.66                   40.9  ...                 0.37  \\\n",
       "1    5.46     5.46                    0.0  ...                 0.10   \n",
       "\n",
       "   PASSIVOS / ATIVOS  GIRO ATIVOS  CAGR RECEITAS 5 ANOS  CAGR LUCROS 5 ANOS   \n",
       "0               0.62         0.42                  0.13                 0.0  \\\n",
       "1               0.91         0.11                 18.70                17.8   \n",
       "\n",
       "    LIQUIDEZ MEDIA DIARIA    VPA   LPA   PEG Ratio   VALOR DE MERCADO  \n",
       "0               641433.39   8.58 -2.22       -0.03       8.280497e+08  \n",
       "1             15402170.61  24.15  4.09       -0.33       5.830997e+09  \n",
       "\n",
       "[2 rows x 28 columns]"
      ]
     },
     "execution_count": 43,
     "metadata": {},
     "output_type": "execute_result"
    }
   ],
   "source": [
    "previsores.head(2)"
   ]
  },
  {
   "cell_type": "code",
   "execution_count": 44,
   "metadata": {},
   "outputs": [
    {
     "data": {
      "text/plain": [
       "0     7.00\n",
       "1    24.61\n",
       "Name: PRECO, dtype: float64"
      ]
     },
     "execution_count": 44,
     "metadata": {},
     "output_type": "execute_result"
    }
   ],
   "source": [
    "alvo.head(2)"
   ]
  },
  {
   "cell_type": "code",
   "execution_count": 45,
   "metadata": {},
   "outputs": [
    {
     "name": "stdout",
     "output_type": "stream",
     "text": [
      "(620, 28)\n",
      "(620,)\n"
     ]
    }
   ],
   "source": [
    "print(previsores.shape)\n",
    "print(alvo.shape)"
   ]
  },
  {
   "cell_type": "markdown",
   "metadata": {},
   "source": [
    "### Escalonamento"
   ]
  },
  {
   "cell_type": "code",
   "execution_count": 47,
   "metadata": {},
   "outputs": [],
   "source": [
    "scaler = StandardScaler()\n",
    "previsores_standard_scaling = scaler.fit_transform(previsores)\n",
    "\n",
    "# Aplicando MinMaxScaler\n",
    "min_max_scaler = MinMaxScaler()\n",
    "previsores_min_scaling = min_max_scaler.fit_transform(previsores)\n",
    "\n",
    "# Criando a pasta 'variaveis' se não existir\n",
    "if not os.path.exists('variaveis'):\n",
    "    os.makedirs('variaveis')\n",
    "\n",
    "# Salvando os previsores escalonados\n",
    "with open('variaveis/previsores_standard_scaling.pickle', 'wb') as f:\n",
    "    pickle.dump(previsores_standard_scaling, f)\n",
    "\n",
    "with open('variaveis/previsores_min_scaling.pickle', 'wb') as f:\n",
    "    pickle.dump(previsores_min_scaling, f)\n",
    "\n",
    "with open('variaveis/alvo.pickle', 'wb') as f:\n",
    "    pickle.dump(alvo, f)\n",
    "\n",
    "with open('variaveis/previsores.pickle', 'wb') as f:\n",
    "    pickle.dump(previsores, f)"
   ]
  }
 ],
 "metadata": {
  "kernelspec": {
   "display_name": "Python 3",
   "language": "python",
   "name": "python3"
  },
  "language_info": {
   "codemirror_mode": {
    "name": "ipython",
    "version": 3
   },
   "file_extension": ".py",
   "mimetype": "text/x-python",
   "name": "python",
   "nbconvert_exporter": "python",
   "pygments_lexer": "ipython3",
   "version": "3.10.9"
  }
 },
 "nbformat": 4,
 "nbformat_minor": 2
}
